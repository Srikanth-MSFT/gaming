{
 "cells": [
  {
   "cell_type": "markdown",
   "id": "84002647",
   "metadata": {},
   "source": [
    "# Cosmos DB Gaming App Simulation\n",
    "\n",
    "This notebook demonstrates how to build a backend for an online gaming application using Azure Cosmos DB NoSQL API.\n",
    "\n",
    "## Objectives\n",
    "- Provision Cosmos DB containers for players, sessions, matches, events, and leaderboards.\n",
    "- Simulate hundreds of users across multiple regions.\n",
    "- Stream gameplay events and update leaderboards.\n",
    "- Query top-K leaderboard results.\n",
    "- Demonstrate change feed for live ops.\n",
    "- Retrieval-Augmented Generation (RAG) with Azure Cosmos DB Core API for Gaming Collections\n",
    "\n",
    "## Prerequisites\n",
    "- Azure Cosmos DB NoSQL account with multi-region setup.\n",
    "- Python 3.9+ environment with Jupyter Notebook.\n",
    "- Cosmos DB endpoint, Open AI endpoint and key.\n"
   ]
  },
  {
   "cell_type": "markdown",
   "id": "fea06ab5",
   "metadata": {},
   "source": [
    "## Setup: Install dependencies and configure Cosmos DB connection"
   ]
  },
  {
   "cell_type": "code",
   "execution_count": null,
   "id": "3b0571ad",
   "metadata": {},
   "outputs": [],
   "source": [
    "%pip install --quiet azure-cosmos==4.* faker numpy"
   ]
  },
  {
   "cell_type": "code",
   "execution_count": 28,
   "id": "3aceafb0",
   "metadata": {},
   "outputs": [],
   "source": [
    "import os, hashlib, time, random, uuid, json\n",
    "from datetime import datetime, timedelta, timezone\n",
    "from concurrent.futures import ThreadPoolExecutor, as_completed\n",
    "from faker import Faker\n",
    "from azure.cosmos import CosmosClient, PartitionKey, ThroughputProperties, exceptions\n",
    "from dotenv import dotenv_values\n",
    "from azure.identity import DefaultAzureCredential\n",
    "\n",
    "env_name = \"./config/config.env\" # using config.env template, change to your own .env file name\n",
    "config = dotenv_values(env_name)\n",
    "\n",
    "COSMOS_ENDPOINT = config['NOSQL_ENDPOINT']\n",
    "DB_NAME = \"gamingdb\"\n",
    "credential = DefaultAzureCredential()\n",
    "\n",
    "\n",
    "REGIONS = [\"Southeast Asia\", \"East US\", \"West US\", \"Japan East\", \"Australia East\", \"Central India\"]\n",
    "\n",
    "\n",
    "primary = CosmosClient(COSMOS_ENDPOINT, credential=credential, consistency_level=\"Session\", preferred_locations=REGIONS)\n",
    "\n",
    "region_clients = {\n",
    "    r: CosmosClient(COSMOS_ENDPOINT, credential=credential, consistency_level=\"Session\", preferred_locations=[r])\n",
    "    for r in REGIONS\n",
    "}\n"
   ]
  },
  {
   "cell_type": "markdown",
   "id": "ec8067b5",
   "metadata": {},
   "source": [
    "## Provisioning: Create database and containers"
   ]
  },
  {
   "cell_type": "code",
   "execution_count": 29,
   "id": "d5540498",
   "metadata": {},
   "outputs": [],
   "source": [
    "autoscale_throughput = ThroughputProperties(auto_scale_max_throughput=2000)\n",
    "\n",
    "db = primary.create_database_if_not_exists(id=DB_NAME, offer_throughput=autoscale_throughput)\n",
    "\n",
    "players = db.create_container_if_not_exists(id=\"players\", partition_key=PartitionKey(path=\"/playerId\"))\n",
    "\n",
    "sessions = db.create_container_if_not_exists(id=\"sessions\", partition_key=PartitionKey(path=\"/sessionId\"), default_ttl=86400)\n",
    "\n",
    "matches = db.create_container_if_not_exists(id=\"matches\", partition_key=PartitionKey(path=\"/matchId\"))\n",
    "\n",
    "events = db.create_container_if_not_exists(id=\"events\", partition_key=PartitionKey(path=\"/matchId\"), default_ttl=2592000)\n",
    "\n",
    "leaderboards = db.create_container_if_not_exists(\n",
    "    id=\"leaderboards\",\n",
    "    partition_key=PartitionKey(path=\"/leaderboardBucket\"),\n",
    "    unique_key_policy={\"uniqueKeys\": [{\"paths\": [\"/leaderboardId\", \"/playerId\"]}]}\n",
    ")\n"
   ]
  },
  {
   "cell_type": "markdown",
   "id": "907bb839",
   "metadata": {},
   "source": [
    "## Helper Functions: Leaderboard bucketing and RU tracking"
   ]
  },
  {
   "cell_type": "code",
   "execution_count": 30,
   "id": "66dfad22",
   "metadata": {},
   "outputs": [],
   "source": [
    "fake = Faker()\n",
    "\n",
    "def leaderboard_bucket(leaderboard_id, player_id, buckets=32):\n",
    "    h = int(hashlib.sha1(player_id.encode(\"utf-8\")).hexdigest(), 16)\n",
    "    b = h % buckets\n",
    "    return f\"{leaderboard_id}#{b:02d}\"\n",
    "\n",
    "_ru_log = {\"writes\":0.0, \"reads\":0.0, \"patches\":0.0}\n",
    "def _ru_hook(headers):\n",
    "    try:\n",
    "        ru = float(headers.get(\"x-ms-request-charge\",\"0\"))\n",
    "    except Exception:\n",
    "        pass\n"
   ]
  },
  {
   "cell_type": "markdown",
   "id": "772cce95",
   "metadata": {},
   "source": [
    "## Data Seeding: Generate synthetic players across regions"
   ]
  },
  {
   "cell_type": "code",
   "execution_count": 31,
   "id": "5a6b2122",
   "metadata": {},
   "outputs": [],
   "source": [
    "N_PLAYERS = 600\n",
    "players_seed = []\n",
    "\n",
    "for i in range(N_PLAYERS):\n",
    "    pid = str(uuid.uuid4())\n",
    "    region = random.choice(REGIONS)\n",
    "    players_seed.append({\n",
    "        \"id\": pid, \"playerId\": pid,\n",
    "        \"gamertag\": fake.user_name() + str(random.randint(10,99)),\n",
    "        \"mmr\": random.randint(800, 2400),\n",
    "        \"homeRegion\": region,\n",
    "        \"createdUtc\": datetime.now(timezone.utc).isoformat()\n",
    "    })\n",
    "\n",
    "def _upsert_player(doc):\n",
    "    try:\n",
    "        c = region_clients[doc[\"homeRegion\"]].get_database_client(DB_NAME).get_container_client(\"players\")\n",
    "        c.upsert_item(doc, response_hook=lambda h: _ru_hook(h))\n",
    "        return True\n",
    "    except Exception:\n",
    "        return False\n",
    "\n",
    "with ThreadPoolExecutor(max_workers=64) as ex:\n",
    "    list(as_completed([ex.submit(_upsert_player, p) for p in players_seed]))\n"
   ]
  },
  {
   "cell_type": "markdown",
   "id": "d30eadaf",
   "metadata": {},
   "source": [
    "## Simulation: Concurrent gameplay across regions"
   ]
  },
  {
   "cell_type": "code",
   "execution_count": 32,
   "id": "b782b310",
   "metadata": {},
   "outputs": [
    {
     "name": "stdout",
     "output_type": "stream",
     "text": [
      "Simulated 500 users across 6 regions in 58.2s\n"
     ]
    }
   ],
   "source": [
    "SEASON = \"2025-09\"\n",
    "MODES = [\"solo\",\"duo\",\"squad\"]\n",
    "\n",
    "def ensure_leaderboard_entry(lb_container, leaderboard_id, player):\n",
    "    bucket = leaderboard_bucket(leaderboard_id, player[\"playerId\"])\n",
    "    doc_id = f\"{leaderboard_id}:{player['playerId']}\"\n",
    "    try:\n",
    "        lb_container.upsert_item({\n",
    "            \"id\": doc_id,\n",
    "            \"leaderboardId\": leaderboard_id,\n",
    "            \"leaderboardBucket\": bucket,\n",
    "            \"playerId\": player[\"playerId\"],\n",
    "            \"gamertag\": player[\"gamertag\"],\n",
    "            \"region\": player[\"homeRegion\"],\n",
    "            \"mode\": leaderboard_id.split(\":\")[0],\n",
    "            \"season\": leaderboard_id.split(\":\")[1],\n",
    "            \"score\": 0,\n",
    "            \"lastUpdatedUtc\": datetime.now(timezone.utc).isoformat()\n",
    "        })\n",
    "    except Exception:\n",
    "        pass\n",
    "    return doc_id, bucket\n",
    "\n",
    "def simulate_player_session(player, events_per_match=10):\n",
    "    region = player[\"homeRegion\"]\n",
    "    cli = region_clients[region]\n",
    "    db_cli = cli.get_database_client(DB_NAME)\n",
    "    sess_c = db_cli.get_container_client(\"sessions\")\n",
    "    match_c = db_cli.get_container_client(\"matches\")\n",
    "    events_c = db_cli.get_container_client(\"events\")\n",
    "    lb_c = db_cli.get_container_client(\"leaderboards\")\n",
    "\n",
    "    sid = str(uuid.uuid4())\n",
    "    sess_c.create_item({\n",
    "        \"id\": sid, \"sessionId\": sid,\n",
    "        \"playerId\": player[\"playerId\"],\n",
    "        \"region\": region, \"startedUtc\": datetime.now(timezone.utc).isoformat()\n",
    "    })\n",
    "\n",
    "    mode = random.choice(MODES)\n",
    "    match_id = str(uuid.uuid4())\n",
    "    match = {\n",
    "        \"id\": match_id, \"matchId\": match_id,\n",
    "        \"mode\": mode, \"region\": region,\n",
    "        \"participants\": [player[\"playerId\"]],\n",
    "        \"startedUtc\": datetime.now(timezone.utc).isoformat()\n",
    "    }\n",
    "    match_c.create_item(match)\n",
    "\n",
    "    leaderboard_id = f\"{mode}:{SEASON}\"\n",
    "    lb_doc_id, lb_pk = ensure_leaderboard_entry(lb_c, leaderboard_id, player)\n",
    "\n",
    "    total = 0\n",
    "    for n in range(events_per_match):\n",
    "        points = random.choice([5,10,15,20,25])\n",
    "        total += points\n",
    "        ev = {\n",
    "            \"id\": str(uuid.uuid4()),\n",
    "            \"matchId\": match_id,\n",
    "            \"playerId\": player[\"playerId\"],\n",
    "            \"eventType\": random.choice([\"kill\",\"assist\",\"objective\",\"loot\"]),\n",
    "            \"points\": points,\n",
    "            \"timestampUtc\": datetime.now(timezone.utc).isoformat()\n",
    "        }\n",
    "        events_c.create_item(ev)\n",
    "\n",
    "        try:\n",
    "            lb_c.patch_item(\n",
    "                item=lb_doc_id,\n",
    "                partition_key=lb_pk,\n",
    "                patch_operations=[\n",
    "                    {\"op\":\"incr\",\"path\":\"/score\",\"value\":points},\n",
    "                    {\"op\":\"set\",\"path\":\"/lastUpdatedUtc\",\"value\":datetime.now(timezone.utc).isoformat()}\n",
    "                ]\n",
    "            )\n",
    "        except exceptions.CosmosHttpResponseError:\n",
    "            doc = lb_c.read_item(lb_doc_id, partition_key=lb_pk)\n",
    "            doc[\"score\"] = doc.get(\"score\",0) + points\n",
    "            doc[\"lastUpdatedUtc\"] = datetime.now(timezone.utc).isoformat()\n",
    "            lb_c.upsert_item(doc)\n",
    "\n",
    "    sess_c.upsert_item({\n",
    "        \"id\": sid, \"sessionId\": sid, \"playerId\": player[\"playerId\"],\n",
    "        \"region\": region, \"endedUtc\": datetime.now(timezone.utc).isoformat()\n",
    "    })\n",
    "    return total\n",
    "\n",
    "random.shuffle(players_seed)\n",
    "SIM_USERS = 500\n",
    "EVENTS_PER_MATCH = 8\n",
    "\n",
    "t0 = time.time()\n",
    "with ThreadPoolExecutor(max_workers=128) as ex:\n",
    "    futures = [ex.submit(simulate_player_session, p, EVENTS_PER_MATCH) for p in players_seed[:SIM_USERS]]\n",
    "    totals = [f.result() for f in as_completed(futures)]\n",
    "t1 = time.time()\n",
    "print(f\"Simulated {SIM_USERS} users across {len(REGIONS)} regions in {t1-t0:.1f}s\")\n"
   ]
  },
  {
   "cell_type": "markdown",
   "id": "699cefc7",
   "metadata": {},
   "source": [
    "## Query: Retrieve top-K leaderboard results"
   ]
  },
  {
   "cell_type": "code",
   "execution_count": 33,
   "id": "7e6641f6",
   "metadata": {},
   "outputs": [
    {
     "name": "stdout",
     "output_type": "stream",
     "text": [
      "[\n",
      "  {\n",
      "    \"playerId\": \"f6a680e8-aa0f-4271-a7fa-e8a3f7d4a20e\",\n",
      "    \"gamertag\": \"regina9087\",\n",
      "    \"region\": \"East US\",\n",
      "    \"score\": 185\n",
      "  },\n",
      "  {\n",
      "    \"playerId\": \"79abd22f-f668-4f8d-8ede-417018b4b915\",\n",
      "    \"gamertag\": \"ojones43\",\n",
      "    \"region\": \"Japan East\",\n",
      "    \"score\": 170\n",
      "  },\n",
      "  {\n",
      "    \"playerId\": \"7132fea4-ace2-4c1a-b030-95e0228f4645\",\n",
      "    \"gamertag\": \"brandon6221\",\n",
      "    \"region\": \"East US\",\n",
      "    \"score\": 170\n",
      "  },\n",
      "  {\n",
      "    \"playerId\": \"44e8cdab-4cb6-4074-bfed-b517d4009147\",\n",
      "    \"gamertag\": \"williambowen23\",\n",
      "    \"region\": \"Japan East\",\n",
      "    \"score\": 170\n",
      "  },\n",
      "  {\n",
      "    \"playerId\": \"dbce226b-18b1-4d17-8b79-07e42b81687d\",\n",
      "    \"gamertag\": \"brentleon63\",\n",
      "    \"region\": \"Southeast Asia\",\n",
      "    \"score\": 165\n",
      "  },\n",
      "  {\n",
      "    \"playerId\": \"6d1929db-5cb0-41d3-9431-7783a7d1d551\",\n",
      "    \"gamertag\": \"michelle1361\",\n",
      "    \"region\": \"Southeast Asia\",\n",
      "    \"score\": 165\n",
      "  },\n",
      "  {\n",
      "    \"playerId\": \"06a37ffc-c227-49fc-a828-149eafa53001\",\n",
      "    \"gamertag\": \"rromero70\",\n",
      "    \"region\": \"Australia East\",\n",
      "    \"score\": 160\n",
      "  },\n",
      "  {\n",
      "    \"playerId\": \"17938bf4-1f98-4caf-99a8-93fddb2169b5\",\n",
      "    \"gamertag\": \"graveswilliam37\",\n",
      "    \"region\": \"Australia East\",\n",
      "    \"score\": 160\n",
      "  },\n",
      "  {\n",
      "    \"playerId\": \"255dbd22-c98d-443b-bf24-adb98dbd8e3c\",\n",
      "    \"gamertag\": \"kathryn9872\",\n",
      "    \"region\": \"East US\",\n",
      "    \"score\": 155\n",
      "  },\n",
      "  {\n",
      "    \"playerId\": \"576ccbf8-12c4-47c8-87e1-9113e03b4899\",\n",
      "    \"gamertag\": \"shawbryan45\",\n",
      "    \"region\": \"Japan East\",\n",
      "    \"score\": 155\n",
      "  },\n",
      "  {\n",
      "    \"playerId\": \"a828bd84-633e-4a05-952a-db70a51a5912\",\n",
      "    \"gamertag\": \"williamsmargaret98\",\n",
      "    \"region\": \"Australia East\",\n",
      "    \"score\": 155\n",
      "  },\n",
      "  {\n",
      "    \"playerId\": \"958fc3b4-68d8-473c-b84a-7604a0e060f7\",\n",
      "    \"gamertag\": \"melissanelson59\",\n",
      "    \"region\": \"Japan East\",\n",
      "    \"score\": 155\n",
      "  },\n",
      "  {\n",
      "    \"playerId\": \"7b162671-9f24-4f28-bff6-896310db5695\",\n",
      "    \"gamertag\": \"kbates65\",\n",
      "    \"region\": \"Central India\",\n",
      "    \"score\": 150\n",
      "  },\n",
      "  {\n",
      "    \"playerId\": \"e426900f-9607-410d-b8e2-d30fde6efaca\",\n",
      "    \"gamertag\": \"ssolis91\",\n",
      "    \"region\": \"Central India\",\n",
      "    \"score\": 150\n",
      "  },\n",
      "\n"
     ]
    }
   ],
   "source": [
    "mode = \"solo\"\n",
    "leaderboard_id = f\"{mode}:{SEASON}\"\n",
    "\n",
    "query = '''\n",
    "SELECT c.playerId, c.gamertag, c.region, c.score\n",
    "FROM c\n",
    "WHERE c.leaderboardId = @lb\n",
    "ORDER BY c.score DESC\n",
    "OFFSET 0 LIMIT 15\n",
    "'''\n",
    "\n",
    "lb_cli = primary.get_database_client(DB_NAME).get_container_client(\"leaderboards\")\n",
    "results = list(lb_cli.query_items(\n",
    "    query=query,\n",
    "    parameters=[{\"name\":\"@lb\",\"value\":leaderboard_id}],\n",
    "    enable_cross_partition_query=True\n",
    "))\n",
    "print(json.dumps(results, indent=2)[:2000])\n"
   ]
  },
  {
   "cell_type": "markdown",
   "id": "a5743823",
   "metadata": {},
   "source": [
    "## Change Feed: Pull recent events for live ops"
   ]
  },
  {
   "cell_type": "code",
   "execution_count": null,
   "id": "7f63800e",
   "metadata": {},
   "outputs": [],
   "source": [
    "pager = events.query_items_change_feed(\n",
    "    is_start_from_beginning=True,\n",
    "    max_item_count=10\n",
    ")\n",
    "\n",
    "for page in pager.by_page():\n",
    "    for doc in page:\n",
    "        # process each changed document\n",
    "        print(doc)\n"
   ]
  },
  {
   "cell_type": "markdown",
   "id": "de267226",
   "metadata": {},
   "source": [
    "## Observability: RU logging"
   ]
  },
  {
   "cell_type": "markdown",
   "id": "ab2b89da",
   "metadata": {},
   "source": [
    "## Next Steps\n",
    "\n",
    "- Add friends and clans containers.\n",
    "- Materialize top-N leaderboards using change feed.\n",
    "- Integrate with Azure Monitor for observability.\n",
    "- Enable Synapse Link for analytics.\n"
   ]
  },
  {
   "cell_type": "code",
   "execution_count": 34,
   "id": "3c6babc2",
   "metadata": {},
   "outputs": [
    {
     "data": {
      "image/png": "[encoded data removed]",
      "text/plain": [
       "<Figure size 1000x600 with 1 Axes>"
      ]
     },
     "metadata": {},
     "output_type": "display_data"
    }
   ],
   "source": [
    "\n",
    "import matplotlib.pyplot as plt\n",
    "\n",
    "# Extract top 10 players from previous query results\n",
    "top_players = results[:10]\n",
    "gamertags = [p[\"gamertag\"] for p in top_players]\n",
    "scores = [p[\"score\"] for p in top_players]\n",
    "\n",
    "# Reverse for highest score at top\n",
    "gamertags = gamertags[::-1]\n",
    "scores = scores[::-1]\n",
    "\n",
    "# Plot horizontal bar chart\n",
    "plt.figure(figsize=(10, 6))\n",
    "plt.barh(gamertags, scores, color='skyblue')\n",
    "plt.xlabel(\"Score\")\n",
    "plt.ylabel(\"Gamertag\")\n",
    "plt.title(\"Top 10 Players by Score\")\n",
    "plt.tight_layout()\n",
    "plt.show()\n"
   ]
  },
  {
   "cell_type": "markdown",
   "id": "55c20e01",
   "metadata": {},
   "source": [
    "# Retrieval-Augmented Generation (RAG) with Azure Cosmos DB Core API for Gaming Collections\n",
    "\n",
    "This section demonstrates how to:\n",
    "- Connect to Azure Cosmos DB Core (SQL) API\n",
    "- Read sample documents from existing collections (`players`, `sessions`, `leaderboards`, `events`, `matches`)\n",
    "- Generate embeddings using Azure OpenAI\n",
    "- Store documents with embeddings in a new container with vector indexing\n",
    "- Perform vector search queries for RAG scenarios\n",
    "\n",
    "**Note:** Replace all placeholder values (endpoint, keys, etc.) with your actual credentials."
   ]
  },
  {
   "cell_type": "markdown",
   "id": "5e163d7b",
   "metadata": {},
   "source": [
    "## Create `ragCollection` with Vector Indexing\n",
    "\n",
    "This container will store documents with embeddings and enable vector search (HNSW + cosine, 1536 dimensions)."
   ]
  },
  {
   "cell_type": "code",
   "execution_count": 35,
   "id": "60f7b823",
   "metadata": {},
   "outputs": [
    {
     "name": "stdout",
     "output_type": "stream",
     "text": [
      "Container 'ragCollection' is ready.\n"
     ]
    }
   ],
   "source": [
    "RAG_DB_NAME = \"gamingRagDB\"\n",
    "RAG_CONTAINER_NAME = \"ragCollection\"\n",
    "\n",
    "# Define vector indexing policy (requires preview feature enabled in your Cosmos DB account)\n",
    "indexing_policy = {\n",
    "    \"indexingMode\": \"consistent\",\n",
    "    \"automatic\": True,\n",
    "    \"includedPaths\": [\n",
    "        {\"path\": \"/*\"}\n",
    "    ],\n",
    "    \"vectorIndexes\": [\n",
    "        {\n",
    "            \"path\": \"/embedding\",\n",
    "            \"type\": \"diskANN\"\n",
    "        }\n",
    "    ]\n",
    "}\n",
    "\n",
    "vector_embedding_policy = {\n",
    "    \"vectorEmbeddings\": [\n",
    "        {\n",
    "            \"path\": \"/embedding\",\n",
    "            \"dataType\": \"float32\",\n",
    "            \"distanceFunction\": \"cosine\",\n",
    "            \"dimensions\": 1536\n",
    "        }\n",
    "    ]\n",
    "}\n",
    "\n",
    "try:\n",
    "    ragdb_autoscale_throughput = ThroughputProperties(auto_scale_max_throughput=1000)\n",
    "    rag_db = primary.create_database_if_not_exists(id=RAG_DB_NAME)\n",
    "    rag_container = rag_db.create_container_if_not_exists(\n",
    "        id=RAG_CONTAINER_NAME,\n",
    "        partition_key=PartitionKey(path=\"/category\"),\n",
    "        offer_throughput=ragdb_autoscale_throughput,\n",
    "        indexing_policy=indexing_policy,\n",
    "        vector_embedding_policy=vector_embedding_policy\n",
    "    )\n",
    "    print(f\"Container '{RAG_CONTAINER_NAME}' is ready.\")\n",
    "except Exception as e:\n",
    "    print(\"Error creating container:\", e)"
   ]
  },
  {
   "cell_type": "markdown",
   "id": "2a7961c9",
   "metadata": {},
   "source": [
    "## Read Top 10 Documents from Each Gaming Collection\n",
    "\n",
    "We will read up to 10 documents from each of the following collections:\n",
    "- `players`\n",
    "- `sessions`\n",
    "- `leaderboards`\n",
    "- `events`\n",
    "- `matches`"
   ]
  },
  {
   "cell_type": "code",
   "execution_count": 36,
   "id": "1bc954fd",
   "metadata": {},
   "outputs": [
    {
     "name": "stdout",
     "output_type": "stream",
     "text": [
      "Loaded 10 documents from 'players'.\n",
      "Loaded 10 documents from 'sessions'.\n",
      "Loaded 10 documents from 'leaderboards'.\n",
      "Loaded 10 documents from 'events'.\n",
      "Loaded 10 documents from 'matches'.\n",
      "Total documents loaded: 50\n"
     ]
    }
   ],
   "source": [
    "import uuid\n",
    "import json\n",
    "\n",
    "collection_names = [\"players\", \"sessions\", \"leaderboards\", \"events\", \"matches\"]\n",
    "sample_documents = []\n",
    "\n",
    "for collection_name in collection_names:\n",
    "    try:\n",
    "        container = db.get_container_client(collection_name)\n",
    "        query = \"SELECT * FROM c OFFSET 0 LIMIT 10\"\n",
    "        items = list(container.query_items(query=query, enable_cross_partition_query=True))\n",
    "        for item in items:\n",
    "            sample_documents.append({\n",
    "                \"id\": str(uuid.uuid4()),\n",
    "                \"category\": collection_name,\n",
    "                \"content\": json.dumps(item, ensure_ascii=False)\n",
    "            })\n",
    "        print(f\"Loaded {len(items)} documents from '{collection_name}'.\")\n",
    "    except exceptions.CosmosResourceNotFoundError:\n",
    "        print(f\"Collection '{collection_name}' not found.\")\n",
    "print(f\"Total documents loaded: {len(sample_documents)}\")"
   ]
  },
  {
   "cell_type": "markdown",
   "id": "b5323609",
   "metadata": {},
   "source": [
    "\n",
    "## Generate Embeddings for Each Document Using Azure OpenAI\n",
    "\n",
    "We use the `text-embedding-ada-002` model to generate a 1536-dimensional embedding for each document.\n",
    "\n",
    "**Note:** Replace the placeholders with your Azure OpenAI credentials.\n"
   ]
  },
  {
   "cell_type": "code",
   "execution_count": 37,
   "id": "dc3c0863",
   "metadata": {},
   "outputs": [
    {
     "name": "stdout",
     "output_type": "stream",
     "text": [
      "Embeddings generated for all documents.\n"
     ]
    }
   ],
   "source": [
    "import openai\n",
    "\n",
    "# Replace with your Azure OpenAI key and endpoint\n",
    "openai.api_type = \"azure\"\n",
    "openai.api_key = config['OPENAI_API_KEY']\n",
    "openai.api_base = config['OPENAI_API_ENDPOINT']\n",
    "openai.azure_endpoint = config['OPENAI_API_ENDPOINT']\n",
    "openai.api_version = \"2023-05-15\"\n",
    "embedding_model = config['OPENAI_EMBEDDINGS_DEPLOYMENT']\n",
    "\n",
    "for doc in sample_documents:\n",
    "    response = openai.embeddings.create(\n",
    "        input=doc[\"content\"],\n",
    "        model=embedding_model\n",
    "    )\n",
    "    doc[\"embedding\"] = response.data[0].embedding\n",
    "print(\"Embeddings generated for all documents.\")"
   ]
  },
  {
   "cell_type": "markdown",
   "id": "9ad76c0e",
   "metadata": {},
   "source": [
    "## Store Documents with Embeddings into `ragCollection`\n"
   ]
  },
  {
   "cell_type": "code",
   "execution_count": 38,
   "id": "158eb26a",
   "metadata": {},
   "outputs": [
    {
     "name": "stdout",
     "output_type": "stream",
     "text": [
      "Inserted 50 documents into 'ragCollection'.\n"
     ]
    }
   ],
   "source": [
    "for doc in sample_documents:\n",
    "    rag_container.upsert_item(doc)\n",
    "print(f\"Inserted {len(sample_documents)} documents into '{RAG_CONTAINER_NAME}'.\")"
   ]
  },
  {
   "cell_type": "markdown",
   "id": "4f8e7097",
   "metadata": {},
   "source": [
    "## Perform Vector Search Queries\n",
    "\n",
    "We demonstrate three sample queries:\n",
    "- \"Which player had the longest session duration?\"\n",
    "- \"Top 5 players by leaderboard score\"\n",
    "- \"Recent matches with highest scores\""
   ]
  },
  {
   "cell_type": "code",
   "execution_count": 40,
   "id": "2035be90",
   "metadata": {},
   "outputs": [
    {
     "name": "stdout",
     "output_type": "stream",
     "text": [
      "Query 1 Results:\n",
      "0.7726246123909292 sessions {\"id\": \"86ac47bc-0679-4123-9448-2316fdc20f62\", \"sessionId\": \"86ac47bc-0679-4123-9448-2316fdc20f62\", \"playerId\": \"6a1b7a5d-7a94-4c63-b915-ac7c837a86fe\", \"region\": \"Southeast Asia\", \"endedUtc\": \"2025-09-24T03:24:45.967234+00:00\", \"_rid\": \"DEd1AIPzE3wDAAAAAAAAAA==\", \"_self\": \"dbs/DEd1AA==/colls/DEd1AIPzE3w=/docs/DEd1AIPzE3wDAAAAAAAAAA==/\", \"_etag\": \"\\\"a3006f36-0000-1800-0000-68d3647e0000\\\"\", \"_attachments\": \"attachments/\", \"_ts\": 1758684286}\n",
      "0.7714862425449993 sessions {\"id\": \"60ed93a5-3994-4be8-aa2e-7ff02a340cb6\", \"sessionId\": \"60ed93a5-3994-4be8-aa2e-7ff02a340cb6\", \"playerId\": \"4ee0c930-46b8-4964-8d5c-3dd1872c04ba\", \"region\": \"Southeast Asia\", \"endedUtc\": \"2025-09-24T03:24:46.365954+00:00\", \"_rid\": \"DEd1AIPzE3wCAAAAAAAAAA==\", \"_self\": \"dbs/DEd1AA==/colls/DEd1AIPzE3w=/docs/DEd1AIPzE3wCAAAAAAAAAA==/\", \"_etag\": \"\\\"a300e836-0000-1800-0000-68d3647e0000\\\"\", \"_attachments\": \"attachments/\", \"_ts\": 1758684286}\n",
      "0.7714709390160892 sessions {\"id\": \"5311e344-3f6f-494b-b895-f8b6b6aba8c6\", \"sessionId\": \"5311e344-3f6f-494b-b895-f8b6b6aba8c6\", \"playerId\": \"3a780a40-81d9-485a-8220-dcb64fc1e261\", \"region\": \"Southeast Asia\", \"endedUtc\": \"2025-09-24T03:24:46.077746+00:00\", \"_rid\": \"DEd1AIPzE3wBAAAAAAAAAA==\", \"_self\": \"dbs/DEd1AA==/colls/DEd1AIPzE3w=/docs/DEd1AIPzE3wBAAAAAAAAAA==/\", \"_etag\": \"\\\"a3007836-0000-1800-0000-68d3647e0000\\\"\", \"_attachments\": \"attachments/\", \"_ts\": 1758684286}\n",
      "0.7711964200391017 sessions {\"id\": \"14f2ec74-910b-426c-8beb-19deb276605a\", \"sessionId\": \"14f2ec74-910b-426c-8beb-19deb276605a\", \"playerId\": \"0c0776c1-93e7-4d48-a4ba-a9c2b7ec4640\", \"region\": \"Southeast Asia\", \"endedUtc\": \"2025-09-24T03:24:46.038908+00:00\", \"_rid\": \"DEd1AIPzE3wHAAAAAAAAAA==\", \"_self\": \"dbs/DEd1AA==/colls/DEd1AIPzE3w=/docs/DEd1AIPzE3wHAAAAAAAAAA==/\", \"_etag\": \"\\\"a3006636-0000-1800-0000-68d3647e0000\\\"\", \"_attachments\": \"attachments/\", \"_ts\": 1758684286}\n",
      "0.7701982395362598 sessions {\"id\": \"7e47ea91-0bad-462e-b354-8f6ebad7aad2\", \"sessionId\": \"7e47ea91-0bad-462e-b354-8f6ebad7aad2\", \"playerId\": \"b6687f63-d8e4-4444-9e50-9b2bf1179522\", \"region\": \"Japan East\", \"endedUtc\": \"2025-09-24T03:24:58.308513+00:00\", \"_rid\": \"DEd1AIPzE3wKAAAAAAAAAA==\", \"_self\": \"dbs/DEd1AA==/colls/DEd1AIPzE3w=/docs/DEd1AIPzE3wKAAAAAAAAAA==/\", \"_etag\": \"\\\"a3004640-0000-1800-0000-68d3648a0000\\\"\", \"_attachments\": \"attachments/\", \"_ts\": 1758684298}\n",
      "\n",
      "Query 2 Results:\n",
      "0.7907431095981305 leaderboards {\"id\": \"solo:2025-09:1c3faf1c-45e7-40cd-aab3-cd78704be51b\", \"leaderboardId\": \"solo:2025-09\", \"leaderboardBucket\": \"solo:2025-09#20\", \"playerId\": \"1c3faf1c-45e7-40cd-aab3-cd78704be51b\", \"gamertag\": \"yknight35\", \"region\": \"Southeast Asia\", \"mode\": \"solo\", \"season\": \"2025-09\", \"score\": 100, \"lastUpdatedUtc\": \"2025-09-24T03:24:45.977318+00:00\", \"_rid\": \"DEd1AJxfAkUHAAAAAAAAAA==\", \"_self\": \"dbs/DEd1AA==/colls/DEd1AJxfAkU=/docs/DEd1AJxfAkUHAAAAAAAAAA==/\", \"_etag\": \"\\\"a3004f36-0000-1800-0000-68d3647d0000\\\"\", \"_attachments\": \"attachments/\", \"_ts\": 1758684285}\n",
      "0.786706851400082 leaderboards {\"id\": \"squad:2025-09:6a1b7a5d-7a94-4c63-b915-ac7c837a86fe\", \"leaderboardId\": \"squad:2025-09\", \"leaderboardBucket\": \"squad:2025-09#18\", \"playerId\": \"6a1b7a5d-7a94-4c63-b915-ac7c837a86fe\", \"gamertag\": \"williamskaren88\", \"region\": \"Southeast Asia\", \"mode\": \"squad\", \"season\": \"2025-09\", \"score\": 105, \"lastUpdatedUtc\": \"2025-09-24T03:24:45.909991+00:00\", \"_rid\": \"DEd1AJxfAkUBAAAAAAAAAA==\", \"_self\": \"dbs/DEd1AA==/colls/DEd1AJxfAkU=/docs/DEd1AJxfAkUBAAAAAAAAAA==/\", \"_etag\": \"\\\"a3002d36-0000-1800-0000-68d3647d0000\\\"\", \"_attachments\": \"attachments/\", \"_ts\": 1758684285}\n",
      "0.7846026142988072 leaderboards {\"id\": \"solo:2025-09:02599b91-797e-4a0e-bee5-b25496b65ae3\", \"leaderboardId\": \"solo:2025-09\", \"leaderboardBucket\": \"solo:2025-09#09\", \"playerId\": \"02599b91-797e-4a0e-bee5-b25496b65ae3\", \"gamertag\": \"mejiasamuel54\", \"region\": \"Southeast Asia\", \"mode\": \"solo\", \"season\": \"2025-09\", \"score\": 115, \"lastUpdatedUtc\": \"2025-09-24T03:24:45.909991+00:00\", \"_rid\": \"DEd1AJxfAkUDAAAAAAAAAA==\", \"_self\": \"dbs/DEd1AA==/colls/DEd1AJxfAkU=/docs/DEd1AJxfAkUDAAAAAAAAAA==/\", \"_etag\": \"\\\"a3004336-0000-1800-0000-68d3647d0000\\\"\", \"_attachments\": \"attachments/\", \"_ts\": 1758684285}\n",
      "0.7838668142740793 leaderboards {\"id\": \"squad:2025-09:23d0e718-1df7-4ed2-bdfa-bc0f617f95af\", \"leaderboardId\": \"squad:2025-09\", \"leaderboardBucket\": \"squad:2025-09#06\", \"playerId\": \"23d0e718-1df7-4ed2-bdfa-bc0f617f95af\", \"gamertag\": \"daniel5413\", \"region\": \"Southeast Asia\", \"mode\": \"squad\", \"season\": \"2025-09\", \"score\": 130, \"lastUpdatedUtc\": \"2025-09-24T03:24:46.250445+00:00\", \"_rid\": \"DEd1AJxfAkUJAAAAAAAAAA==\", \"_self\": \"dbs/DEd1AA==/colls/DEd1AJxfAkU=/docs/DEd1AJxfAkUJAAAAAAAAAA==/\", \"_etag\": \"\\\"a300ab36-0000-1800-0000-68d3647e0000\\\"\", \"_attachments\": \"attachments/\", \"_ts\": 1758684286}\n",
      "0.7834400424600361 leaderboards {\"id\": \"duo:2025-09:4ee0c930-46b8-4964-8d5c-3dd1872c04ba\", \"leaderboardId\": \"duo:2025-09\", \"leaderboardBucket\": \"duo:2025-09#03\", \"playerId\": \"4ee0c930-46b8-4964-8d5c-3dd1872c04ba\", \"gamertag\": \"valerie2410\", \"region\": \"Southeast Asia\", \"mode\": \"duo\", \"season\": \"2025-09\", \"score\": 120, \"lastUpdatedUtc\": \"2025-09-24T03:24:46.293605+00:00\", \"_rid\": \"DEd1AJxfAkUGAAAAAAAAAA==\", \"_self\": \"dbs/DEd1AA==/colls/DEd1AJxfAkU=/docs/DEd1AJxfAkUGAAAAAAAAAA==/\", \"_etag\": \"\\\"a300c736-0000-1800-0000-68d3647e0000\\\"\", \"_attachments\": \"attachments/\", \"_ts\": 1758684286}\n",
      "\n",
      "Query 3 Results:\n",
      "0.777611985848551 leaderboards {\"id\": \"solo:2025-09:1c3faf1c-45e7-40cd-aab3-cd78704be51b\", \"leaderboardId\": \"solo:2025-09\", \"leaderboardBucket\": \"solo:2025-09#20\", \"playerId\": \"1c3faf1c-45e7-40cd-aab3-cd78704be51b\", \"gamertag\": \"yknight35\", \"region\": \"Southeast Asia\", \"mode\": \"solo\", \"season\": \"2025-09\", \"score\": 100, \"lastUpdatedUtc\": \"2025-09-24T03:24:45.977318+00:00\", \"_rid\": \"DEd1AJxfAkUHAAAAAAAAAA==\", \"_self\": \"dbs/DEd1AA==/colls/DEd1AJxfAkU=/docs/DEd1AJxfAkUHAAAAAAAAAA==/\", \"_etag\": \"\\\"a3004f36-0000-1800-0000-68d3647d0000\\\"\", \"_attachments\": \"attachments/\", \"_ts\": 1758684285}\n",
      "0.7760731210953851 events {\"id\": \"e695a914-046e-4b22-a943-af971bfaf736\", \"matchId\": \"b57b7648-4453-4919-99f5-bc2747170b1a\", \"playerId\": \"cba86072-743f-4cb7-9291-77528754d329\", \"eventType\": \"objective\", \"points\": 5, \"timestampUtc\": \"2025-09-24T03:24:44.006866+00:00\", \"_rid\": \"DEd1ALNkTgoBAAAAAAAAAA==\", \"_self\": \"dbs/DEd1AA==/colls/DEd1ALNkTgo=/docs/DEd1ALNkTgoBAAAAAAAAAA==/\", \"_etag\": \"\\\"a300db33-0000-1800-0000-68d3647c0000\\\"\", \"_attachments\": \"attachments/\", \"_ts\": 1758684284}\n",
      "0.7746903699983777 events {\"id\": \"71411121-6948-4e4a-8224-50729e2ccdf4\", \"matchId\": \"36082bb4-7a74-4952-b7ab-55d7e80b14bc\", \"playerId\": \"23d0e718-1df7-4ed2-bdfa-bc0f617f95af\", \"eventType\": \"assist\", \"points\": 10, \"timestampUtc\": \"2025-09-24T03:24:44.269706+00:00\", \"_rid\": \"DEd1ALNkTgoKAAAAAAAAAA==\", \"_self\": \"dbs/DEd1AA==/colls/DEd1ALNkTgo=/docs/DEd1ALNkTgoKAAAAAAAAAA==/\", \"_etag\": \"\\\"a3000634-0000-1800-0000-68d3647c0000\\\"\", \"_attachments\": \"attachments/\", \"_ts\": 1758684284}\n",
      "0.7742310080198458 events {\"id\": \"8db14212-786f-4497-852e-0bf9d3d17676\", \"matchId\": \"393a74a8-7165-434c-8f50-35dc14a1eaf0\", \"playerId\": \"3a780a40-81d9-485a-8220-dcb64fc1e261\", \"eventType\": \"objective\", \"points\": 5, \"timestampUtc\": \"2025-09-24T03:24:44.043166+00:00\", \"_rid\": \"DEd1ALNkTgoIAAAAAAAAAA==\", \"_self\": \"dbs/DEd1AA==/colls/DEd1ALNkTgo=/docs/DEd1ALNkTgoIAAAAAAAAAA==/\", \"_etag\": \"\\\"a3000034-0000-1800-0000-68d3647c0000\\\"\", \"_attachments\": \"attachments/\", \"_ts\": 1758684284}\n",
      "0.774060989746684 events {\"id\": \"f422dc46-cea2-4bbc-b425-32308a589d92\", \"matchId\": \"275ff6fc-32c0-4ed9-893d-35b845151486\", \"playerId\": \"56cc85df-49f9-4f52-8c4b-12def97200b1\", \"eventType\": \"assist\", \"points\": 10, \"timestampUtc\": \"2025-09-24T03:24:44.092415+00:00\", \"_rid\": \"DEd1ALNkTgoEAAAAAAAAAA==\", \"_self\": \"dbs/DEd1AA==/colls/DEd1ALNkTgo=/docs/DEd1ALNkTgoEAAAAAAAAAA==/\", \"_etag\": \"\\\"a300e133-0000-1800-0000-68d3647c0000\\\"\", \"_attachments\": \"attachments/\", \"_ts\": 1758684284}\n"
     ]
    }
   ],
   "source": [
    "# Helper function to get embedding for a query\n",
    "def get_query_embedding(query_text):\n",
    "    response = openai.embeddings.create(\n",
    "        input=query_text,\n",
    "        model=embedding_model\n",
    "    )\n",
    "    return response.data[0].embedding\n",
    "\n",
    "# Query 1: Which player had the longest session duration?\n",
    "query1_embedding = get_query_embedding(\"Which player had the longest session duration?\")\n",
    "query1 = f\"\"\"\n",
    "        SELECT TOP @top_n c.content, c.category, VectorDistance(c.embedding, @queryEmbedding) AS similarityScore\n",
    "        FROM c\n",
    "        ORDER BY VectorDistance(c.embedding, @queryEmbedding)\n",
    "    \"\"\"\n",
    "params1 = [\n",
    "        {\"name\": \"@queryEmbedding\", \"value\": query1_embedding},\n",
    "        {\"name\": \"@top_n\", \"value\": 5}\n",
    "    ]\n",
    "results1 = list(rag_container.query_items(query=query1, parameters=params1, enable_cross_partition_query=True))\n",
    "\n",
    "# Query 2: Top 5 players by leaderboard score\n",
    "query2_embedding = get_query_embedding(\"Top 5 players by leaderboard score\")\n",
    "query2 = f\"\"\"\n",
    "        SELECT TOP @top_n c.content, c.category, VectorDistance(c.embedding, @queryEmbedding) AS similarityScore\n",
    "        FROM c\n",
    "        ORDER BY VectorDistance(c.embedding, @queryEmbedding)\n",
    "    \"\"\"\n",
    "params2 = [\n",
    "        {\"name\": \"@queryEmbedding\", \"value\": query2_embedding},\n",
    "        {\"name\": \"@top_n\", \"value\": 5}\n",
    "    ]\n",
    "results2 = list(rag_container.query_items(query=query2, parameters=params2, enable_cross_partition_query=True))\n",
    "\n",
    "# Query 3: Recent matches with highest scores\n",
    "query3_embedding = get_query_embedding(\"Recent matches with highest scores\")\n",
    "query3 = f\"\"\"\n",
    "        SELECT TOP @top_n c.content, c.category, VectorDistance(c.embedding, @queryEmbedding) AS similarityScore\n",
    "        FROM c\n",
    "        ORDER BY VectorDistance(c.embedding, @queryEmbedding)\n",
    "    \"\"\"\n",
    "params3 = [\n",
    "        {\"name\": \"@queryEmbedding\", \"value\": query3_embedding},\n",
    "        {\"name\": \"@top_n\", \"value\": 5}\n",
    "    ]\n",
    "results3 = list(rag_container.query_items(query=query3, parameters=params3, enable_cross_partition_query=True))\n",
    "\n",
    "print(\"Query 1 Results:\")\n",
    "for r in results1:\n",
    "    print(r['similarityScore'], r[\"category\"], r[\"content\"])\n",
    "\n",
    "print(\"\\nQuery 2 Results:\")\n",
    "for r in results2:\n",
    "    print(r['similarityScore'], r[\"category\"], r[\"content\"])\n",
    "\n",
    "print(\"\\nQuery 3 Results:\")\n",
    "for r in results3:\n",
    "    print(r['similarityScore'], r[\"category\"], r[\"content\"])"
   ]
  }
 ],
 "metadata": {
  "kernelspec": {
   "display_name": "Python 3",
   "language": "python",
   "name": "python3"
  },
  "language_info": {
   "codemirror_mode": {
    "name": "ipython",
    "version": 3
   },
   "file_extension": ".py",
   "mimetype": "text/x-python",
   "name": "python",
   "nbconvert_exporter": "python",
   "pygments_lexer": "ipython3",
   "version": "3.12.10"
  }
 },
 "nbformat": 4,
 "nbformat_minor": 5
}
